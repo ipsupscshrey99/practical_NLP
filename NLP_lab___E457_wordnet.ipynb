{
  "nbformat": 4,
  "nbformat_minor": 0,
  "metadata": {
    "colab": {
      "provenance": []
    },
    "kernelspec": {
      "name": "python3",
      "display_name": "Python 3"
    },
    "language_info": {
      "name": "python"
    }
  },
  "cells": [
    {
      "cell_type": "code",
      "execution_count": null,
      "metadata": {
        "colab": {
          "base_uri": "https://localhost:8080/"
        },
        "id": "DWRn4ECN7aCx",
        "outputId": "3df01e1b-5874-45ed-c06f-ed5019da5417"
      },
      "outputs": [
        {
          "output_type": "stream",
          "name": "stderr",
          "text": [
            "[nltk_data] Downloading package wordnet to /root/nltk_data...\n"
          ]
        }
      ],
      "source": [
        "nltk.download('wordnet')\n",
        "import nltk\n",
        "from nltk.corpus import wordnet as wordnet"
      ]
    },
    {
      "cell_type": "code",
      "source": [],
      "metadata": {
        "id": "CMrZd0vA9Otl"
      },
      "execution_count": null,
      "outputs": []
    },
    {
      "cell_type": "code",
      "source": [
        "from nltk.corpus import wordnet\n",
        "syn = wordnet.synsets('smile')[0]\n",
        "\n",
        "print (\"Synset name :  \", syn.name())\n",
        "\n",
        "# Defining the word\n",
        "print (\"\\nSynset meaning : \", syn.definition())\n",
        "\n",
        "# list of phrases that use the word in context\n",
        "print (\"\\nSynset example : \", syn.examples())"
      ],
      "metadata": {
        "colab": {
          "base_uri": "https://localhost:8080/"
        },
        "id": "lqbAKr5K7zNI",
        "outputId": "85a594c3-5d40-48bb-c6f7-69747c780bc1"
      },
      "execution_count": null,
      "outputs": [
        {
          "output_type": "stream",
          "name": "stdout",
          "text": [
            "Synset name :   smile.n.01\n",
            "\n",
            "Synset meaning :  a facial expression characterized by turning up the corners of the mouth; usually shows pleasure or amusement\n",
            "\n",
            "Synset example :  []\n"
          ]
        }
      ]
    },
    {
      "cell_type": "code",
      "source": [
        "syns = wordnet.synsets(\"program\")"
      ],
      "metadata": {
        "id": "MjDvWeuW88B_"
      },
      "execution_count": null,
      "outputs": []
    },
    {
      "cell_type": "code",
      "source": [
        "synonyms = []\n",
        "antonyms = []\n",
        "\n",
        "for syn in wordnet.synsets(\"gygf\"):\n",
        "    for l in syn.lemmas():\n",
        "        synonyms.append(l.name())\n",
        "        if l.antonyms():\n",
        "            antonyms.append(l.antonyms()[0].name())\n",
        "        else:\n",
        "          print('No exist')\n",
        "\n",
        "\n",
        "\n",
        "print('Synonyms:->')\n",
        "print(set(synonyms))\n",
        "\n",
        "print('\\n')\n",
        "print('Antonyms:->')\n",
        "print(set(antonyms))\n",
        "\n"
      ],
      "metadata": {
        "colab": {
          "base_uri": "https://localhost:8080/"
        },
        "id": "bBYHcxVV-6uG",
        "outputId": "f3dfb6b6-0d1b-4e46-fefa-3979955c6c7b"
      },
      "execution_count": null,
      "outputs": [
        {
          "output_type": "stream",
          "name": "stdout",
          "text": [
            "Synonyms:->\n",
            "set()\n",
            "\n",
            "\n",
            "Antonyms:->\n",
            "set()\n"
          ]
        }
      ]
    },
    {
      "cell_type": "code",
      "source": [],
      "metadata": {
        "id": "u1klX6aq-71t"
      },
      "execution_count": null,
      "outputs": []
    }
  ]
}